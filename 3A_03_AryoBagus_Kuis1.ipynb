{
 "cells": [
  {
   "cell_type": "markdown",
   "metadata": {},
   "source": [
    "## _Medical Insurance Costs_\n",
    "\n",
    "Pada kasus ini, terdapat data tentang informasi kesehatan dan biaya yang harus dikeluarkan oleh asuransi kesehatan. Infomasi terkait dengan data _medical insurance cost_ adalah sebagai berikut,\n",
    "\n",
    "1. Age: Usia penerima manfaat\n",
    "2. Sex: Gender penerima manfaat (_male_, _femele_)\n",
    "3. Bmi : Body Mass Index\n",
    "4. Children: Jumlah anak/tanggungan yang dicover oleh pihak asuransi\n",
    "5. Smoker: Status perokok (_yes_, _no_)\n",
    "6. Region: Wilayah tempat tinggal penerima manfaat\n",
    "7. Charges: Biaya yang dikeluarkan oleh asuransi"
   ]
  },
  {
   "cell_type": "code",
   "execution_count": 1,
   "metadata": {},
   "outputs": [
    {
     "data": {
      "text/html": [
       "<div>\n",
       "<style scoped>\n",
       "    .dataframe tbody tr th:only-of-type {\n",
       "        vertical-align: middle;\n",
       "    }\n",
       "\n",
       "    .dataframe tbody tr th {\n",
       "        vertical-align: top;\n",
       "    }\n",
       "\n",
       "    .dataframe thead th {\n",
       "        text-align: right;\n",
       "    }\n",
       "</style>\n",
       "<table border=\"1\" class=\"dataframe\">\n",
       "  <thead>\n",
       "    <tr style=\"text-align: right;\">\n",
       "      <th></th>\n",
       "      <th>age</th>\n",
       "      <th>sex</th>\n",
       "      <th>bmi</th>\n",
       "      <th>children</th>\n",
       "      <th>smoker</th>\n",
       "      <th>region</th>\n",
       "      <th>charges</th>\n",
       "    </tr>\n",
       "  </thead>\n",
       "  <tbody>\n",
       "    <tr>\n",
       "      <th>0</th>\n",
       "      <td>19</td>\n",
       "      <td>female</td>\n",
       "      <td>27.900</td>\n",
       "      <td>0</td>\n",
       "      <td>yes</td>\n",
       "      <td>southwest</td>\n",
       "      <td>16884.92400</td>\n",
       "    </tr>\n",
       "    <tr>\n",
       "      <th>1</th>\n",
       "      <td>18</td>\n",
       "      <td>male</td>\n",
       "      <td>33.770</td>\n",
       "      <td>1</td>\n",
       "      <td>no</td>\n",
       "      <td>southeast</td>\n",
       "      <td>1725.55230</td>\n",
       "    </tr>\n",
       "    <tr>\n",
       "      <th>2</th>\n",
       "      <td>28</td>\n",
       "      <td>male</td>\n",
       "      <td>33.000</td>\n",
       "      <td>3</td>\n",
       "      <td>no</td>\n",
       "      <td>southeast</td>\n",
       "      <td>4449.46200</td>\n",
       "    </tr>\n",
       "    <tr>\n",
       "      <th>3</th>\n",
       "      <td>33</td>\n",
       "      <td>male</td>\n",
       "      <td>22.705</td>\n",
       "      <td>0</td>\n",
       "      <td>no</td>\n",
       "      <td>northwest</td>\n",
       "      <td>21984.47061</td>\n",
       "    </tr>\n",
       "    <tr>\n",
       "      <th>4</th>\n",
       "      <td>32</td>\n",
       "      <td>male</td>\n",
       "      <td>28.880</td>\n",
       "      <td>0</td>\n",
       "      <td>no</td>\n",
       "      <td>northwest</td>\n",
       "      <td>3866.85520</td>\n",
       "    </tr>\n",
       "  </tbody>\n",
       "</table>\n",
       "</div>"
      ],
      "text/plain": [
       "   age     sex     bmi  children smoker     region      charges\n",
       "0   19  female  27.900         0    yes  southwest  16884.92400\n",
       "1   18    male  33.770         1     no  southeast   1725.55230\n",
       "2   28    male  33.000         3     no  southeast   4449.46200\n",
       "3   33    male  22.705         0     no  northwest  21984.47061\n",
       "4   32    male  28.880         0     no  northwest   3866.85520"
      ]
     },
     "metadata": {},
     "output_type": "display_data"
    },
    {
     "data": {
      "text/html": [
       "<div>\n",
       "<style scoped>\n",
       "    .dataframe tbody tr th:only-of-type {\n",
       "        vertical-align: middle;\n",
       "    }\n",
       "\n",
       "    .dataframe tbody tr th {\n",
       "        vertical-align: top;\n",
       "    }\n",
       "\n",
       "    .dataframe thead th {\n",
       "        text-align: right;\n",
       "    }\n",
       "</style>\n",
       "<table border=\"1\" class=\"dataframe\">\n",
       "  <thead>\n",
       "    <tr style=\"text-align: right;\">\n",
       "      <th></th>\n",
       "      <th>age</th>\n",
       "      <th>bmi</th>\n",
       "      <th>children</th>\n",
       "      <th>charges</th>\n",
       "    </tr>\n",
       "  </thead>\n",
       "  <tbody>\n",
       "    <tr>\n",
       "      <th>age</th>\n",
       "      <td>1.000000</td>\n",
       "      <td>0.109272</td>\n",
       "      <td>0.042469</td>\n",
       "      <td>0.299008</td>\n",
       "    </tr>\n",
       "    <tr>\n",
       "      <th>bmi</th>\n",
       "      <td>0.109272</td>\n",
       "      <td>1.000000</td>\n",
       "      <td>0.012759</td>\n",
       "      <td>0.198341</td>\n",
       "    </tr>\n",
       "    <tr>\n",
       "      <th>children</th>\n",
       "      <td>0.042469</td>\n",
       "      <td>0.012759</td>\n",
       "      <td>1.000000</td>\n",
       "      <td>0.067998</td>\n",
       "    </tr>\n",
       "    <tr>\n",
       "      <th>charges</th>\n",
       "      <td>0.299008</td>\n",
       "      <td>0.198341</td>\n",
       "      <td>0.067998</td>\n",
       "      <td>1.000000</td>\n",
       "    </tr>\n",
       "  </tbody>\n",
       "</table>\n",
       "</div>"
      ],
      "text/plain": [
       "               age       bmi  children   charges\n",
       "age       1.000000  0.109272  0.042469  0.299008\n",
       "bmi       0.109272  1.000000  0.012759  0.198341\n",
       "children  0.042469  0.012759  1.000000  0.067998\n",
       "charges   0.299008  0.198341  0.067998  1.000000"
      ]
     },
     "metadata": {},
     "output_type": "display_data"
    }
   ],
   "source": [
    "# Selayang pandang data Medical Insurance Costs\n",
    "import pandas as pd\n",
    "\n",
    "df = pd.read_csv('data/insurance.csv')\n",
    "\n",
    "display(df.head())\n",
    "\n",
    "display(df.corr())"
   ]
  },
  {
   "cell_type": "markdown",
   "metadata": {},
   "source": [
    "### Tantangan\n",
    "\n",
    "Buatlah model regresi untuk memprediksi biaya yang harus dikeluarkan oleh pihak asuransi berdasarkan data. Validasi performa model regresi Anda dengan nilai ***R-squared ($R^2$)***\n",
    "\n",
    "#### _Tasks_\n",
    "\n",
    "1. Pastikan semua variabel kategorial diolah dengan baik. (Gunakan fitur mapping pada pandas)\n",
    "2. Cek kondisi multicollinearity untuk semua variabel independen. Jika ada, antar variabel apakah itu?\n",
    "3. Pastikan model menggunakan variabel yang tidak memiliki nilai multicollinearity yang tinggi\n",
    "4. (Hints) Anda dapat menggunakan nilai ***Variance Inflation Factor (VIF)*** untuk mengetahui tingkat multicollinearity pada sebuah variabel independent.\n",
    "5. Evaluasi model yang Anda buat dengan nilai $R^2$\n",
    "6. Simpulkan, variabel independen apa saja yang dapat digunakan untuk menghasilkan model regresi yang baik pada kasus _medical insurance costs_?"
   ]
  },
  {
   "cell_type": "markdown",
   "metadata": {},
   "source": [
    "#### (Hints) Interpretasi Nilai VIF\n",
    "\n",
    "- 1 - variabel indenpenden tidak memiliki korelasi dengan variabel independen yang lain\n",
    "- 1 < VIF < 5 - variabel independen sedikit memiliki korelasi dengan variabel independen yang lain\n",
    "- VIF > 5 - variabel independen memiliki korelasi yang kuat dengan variabel independen lainnya\n",
    "- VIF > 10 - variabel independen miliki korelasi yang sangat kuat dengan variabel independen dan perlu diperhatikan lebih lanjut\n",
    "\n",
    "#### (Hints) Implementasi Perhitungan VIF\n",
    "\n",
    "VIF dapat dihitung secara langsung dengan menggunakan library dari `statsmodels`"
   ]
  },
  {
   "cell_type": "markdown",
   "metadata": {},
   "source": [
    "#### (Hints) Scatterplot Korelasi Antar Variabel\n",
    "\n",
    "![var_cor](assets/var_corr.png)"
   ]
  },
  {
   "cell_type": "markdown",
   "metadata": {},
   "source": [
    "Jawaban Kuis"
   ]
  },
  {
   "cell_type": "code",
   "execution_count": 2,
   "metadata": {},
   "outputs": [],
   "source": [
    "import pandas as pd\n",
    "import numpy as np\n",
    "from sklearn.model_selection import train_test_split\n",
    "from sklearn.preprocessing import OneHotEncoder\n",
    "from sklearn.compose import ColumnTransformer\n",
    "from sklearn.linear_model import LinearRegression\n",
    "from sklearn.metrics import mean_absolute_error, mean_squared_error, r2_score"
   ]
  },
  {
   "cell_type": "markdown",
   "metadata": {},
   "source": [
    "import pandas, numpy, sklearn seperti di atas"
   ]
  },
  {
   "cell_type": "code",
   "execution_count": 3,
   "metadata": {},
   "outputs": [
    {
     "data": {
      "text/html": [
       "<div>\n",
       "<style scoped>\n",
       "    .dataframe tbody tr th:only-of-type {\n",
       "        vertical-align: middle;\n",
       "    }\n",
       "\n",
       "    .dataframe tbody tr th {\n",
       "        vertical-align: top;\n",
       "    }\n",
       "\n",
       "    .dataframe thead th {\n",
       "        text-align: right;\n",
       "    }\n",
       "</style>\n",
       "<table border=\"1\" class=\"dataframe\">\n",
       "  <thead>\n",
       "    <tr style=\"text-align: right;\">\n",
       "      <th></th>\n",
       "      <th>age</th>\n",
       "      <th>sex</th>\n",
       "      <th>bmi</th>\n",
       "      <th>children</th>\n",
       "      <th>smoker</th>\n",
       "      <th>region</th>\n",
       "      <th>charges</th>\n",
       "    </tr>\n",
       "  </thead>\n",
       "  <tbody>\n",
       "    <tr>\n",
       "      <th>0</th>\n",
       "      <td>19</td>\n",
       "      <td>female</td>\n",
       "      <td>27.900</td>\n",
       "      <td>0</td>\n",
       "      <td>yes</td>\n",
       "      <td>southwest</td>\n",
       "      <td>16884.92400</td>\n",
       "    </tr>\n",
       "    <tr>\n",
       "      <th>1</th>\n",
       "      <td>18</td>\n",
       "      <td>male</td>\n",
       "      <td>33.770</td>\n",
       "      <td>1</td>\n",
       "      <td>no</td>\n",
       "      <td>southeast</td>\n",
       "      <td>1725.55230</td>\n",
       "    </tr>\n",
       "    <tr>\n",
       "      <th>2</th>\n",
       "      <td>28</td>\n",
       "      <td>male</td>\n",
       "      <td>33.000</td>\n",
       "      <td>3</td>\n",
       "      <td>no</td>\n",
       "      <td>southeast</td>\n",
       "      <td>4449.46200</td>\n",
       "    </tr>\n",
       "    <tr>\n",
       "      <th>3</th>\n",
       "      <td>33</td>\n",
       "      <td>male</td>\n",
       "      <td>22.705</td>\n",
       "      <td>0</td>\n",
       "      <td>no</td>\n",
       "      <td>northwest</td>\n",
       "      <td>21984.47061</td>\n",
       "    </tr>\n",
       "    <tr>\n",
       "      <th>4</th>\n",
       "      <td>32</td>\n",
       "      <td>male</td>\n",
       "      <td>28.880</td>\n",
       "      <td>0</td>\n",
       "      <td>no</td>\n",
       "      <td>northwest</td>\n",
       "      <td>3866.85520</td>\n",
       "    </tr>\n",
       "  </tbody>\n",
       "</table>\n",
       "</div>"
      ],
      "text/plain": [
       "   age     sex     bmi  children smoker     region      charges\n",
       "0   19  female  27.900         0    yes  southwest  16884.92400\n",
       "1   18    male  33.770         1     no  southeast   1725.55230\n",
       "2   28    male  33.000         3     no  southeast   4449.46200\n",
       "3   33    male  22.705         0     no  northwest  21984.47061\n",
       "4   32    male  28.880         0     no  northwest   3866.85520"
      ]
     },
     "execution_count": 3,
     "metadata": {},
     "output_type": "execute_result"
    }
   ],
   "source": [
    "# Read Data\n",
    "df = pd.read_csv('D:/bagus/KULIAH/Semester 5/pem mesin/jobsheets-master/JS04_KUIS_1/data/insurance.csv')\n",
    "df.head()"
   ]
  },
  {
   "cell_type": "markdown",
   "metadata": {},
   "source": [
    "memasukkan data yang berada di inurace.csv\n",
    "lalu dibuat data frame"
   ]
  },
  {
   "cell_type": "code",
   "execution_count": 4,
   "metadata": {},
   "outputs": [
    {
     "data": {
      "text/html": [
       "<div>\n",
       "<style scoped>\n",
       "    .dataframe tbody tr th:only-of-type {\n",
       "        vertical-align: middle;\n",
       "    }\n",
       "\n",
       "    .dataframe tbody tr th {\n",
       "        vertical-align: top;\n",
       "    }\n",
       "\n",
       "    .dataframe thead th {\n",
       "        text-align: right;\n",
       "    }\n",
       "</style>\n",
       "<table border=\"1\" class=\"dataframe\">\n",
       "  <thead>\n",
       "    <tr style=\"text-align: right;\">\n",
       "      <th></th>\n",
       "      <th>age</th>\n",
       "      <th>sex</th>\n",
       "      <th>bmi</th>\n",
       "      <th>children</th>\n",
       "      <th>smoker</th>\n",
       "      <th>region</th>\n",
       "      <th>charges</th>\n",
       "    </tr>\n",
       "  </thead>\n",
       "  <tbody>\n",
       "    <tr>\n",
       "      <th>0</th>\n",
       "      <td>19</td>\n",
       "      <td>0</td>\n",
       "      <td>27.900</td>\n",
       "      <td>0</td>\n",
       "      <td>1</td>\n",
       "      <td>1</td>\n",
       "      <td>16884.92400</td>\n",
       "    </tr>\n",
       "    <tr>\n",
       "      <th>1</th>\n",
       "      <td>18</td>\n",
       "      <td>1</td>\n",
       "      <td>33.770</td>\n",
       "      <td>1</td>\n",
       "      <td>0</td>\n",
       "      <td>2</td>\n",
       "      <td>1725.55230</td>\n",
       "    </tr>\n",
       "    <tr>\n",
       "      <th>2</th>\n",
       "      <td>28</td>\n",
       "      <td>1</td>\n",
       "      <td>33.000</td>\n",
       "      <td>3</td>\n",
       "      <td>0</td>\n",
       "      <td>2</td>\n",
       "      <td>4449.46200</td>\n",
       "    </tr>\n",
       "    <tr>\n",
       "      <th>3</th>\n",
       "      <td>33</td>\n",
       "      <td>1</td>\n",
       "      <td>22.705</td>\n",
       "      <td>0</td>\n",
       "      <td>0</td>\n",
       "      <td>0</td>\n",
       "      <td>21984.47061</td>\n",
       "    </tr>\n",
       "    <tr>\n",
       "      <th>4</th>\n",
       "      <td>32</td>\n",
       "      <td>1</td>\n",
       "      <td>28.880</td>\n",
       "      <td>0</td>\n",
       "      <td>0</td>\n",
       "      <td>0</td>\n",
       "      <td>3866.85520</td>\n",
       "    </tr>\n",
       "  </tbody>\n",
       "</table>\n",
       "</div>"
      ],
      "text/plain": [
       "   age  sex     bmi  children  smoker  region      charges\n",
       "0   19    0  27.900         0       1       1  16884.92400\n",
       "1   18    1  33.770         1       0       2   1725.55230\n",
       "2   28    1  33.000         3       0       2   4449.46200\n",
       "3   33    1  22.705         0       0       0  21984.47061\n",
       "4   32    1  28.880         0       0       0   3866.85520"
      ]
     },
     "execution_count": 4,
     "metadata": {},
     "output_type": "execute_result"
    }
   ],
   "source": [
    "label_sex = {\n",
    "    'male': 1,\n",
    "    'female': 0\n",
    "}\n",
    "\n",
    "label_smoker ={\n",
    "    'yes' : 1,\n",
    "    'no' : 0\n",
    "}\n",
    "\n",
    "label_region ={\n",
    "    'northwest' : 0,\n",
    "    'southwest' : 1,\n",
    "    'southeast' : 2,\n",
    "    'northeast' : 3 \n",
    "}\n",
    "\n",
    "df['sex'] = df['sex'].map(label_sex)\n",
    "df['smoker'] = df['smoker'].map(label_smoker)\n",
    "df['region'] = df['region'].map(label_region)\n",
    "\n",
    "\n",
    "df.head()"
   ]
  },
  {
   "cell_type": "markdown",
   "metadata": {},
   "source": [
    "membuat mapping atau keterangan dari katergorinya (sex, smoker, region) di tabelnya\n"
   ]
  },
  {
   "cell_type": "code",
   "execution_count": 5,
   "metadata": {},
   "outputs": [
    {
     "name": "stdout",
     "output_type": "stream",
     "text": [
      "    feature       VIF\n",
      "0       age  7.588734\n",
      "1       bmi  9.938670\n",
      "2    region  2.789478\n",
      "3       sex  2.002652\n",
      "4    smoker  1.261195\n",
      "5  children  1.799980\n"
     ]
    }
   ],
   "source": [
    "from statsmodels.stats.outliers_influence import variance_inflation_factor\n",
    "\n",
    "X = df[['age', 'bmi', 'region','sex', 'smoker', 'children']]\n",
    "  \n",
    "vif_data = pd.DataFrame()\n",
    "vif_data[\"feature\"] = X.columns\n",
    "  \n",
    "# unruk menghitung VIF\n",
    "vif_data[\"VIF\"] = [variance_inflation_factor(X.values, i)\n",
    "                          for i in range(len(X.columns))]\n",
    "  \n",
    "print(vif_data)"
   ]
  },
  {
   "cell_type": "markdown",
   "metadata": {},
   "source": [
    "dari data sebelumnya, membuat tabel lagi dengan variabel x dengan data frame isinya ( age, bmi, region, sex, smoker, children)\n",
    "lalu  untuk mengetahui tingkat multicollinearity pada sebuah variabel independent menggunakan VIF serta membuat data framenya"
   ]
  },
  {
   "cell_type": "code",
   "execution_count": 6,
   "metadata": {},
   "outputs": [
    {
     "data": {
      "text/html": [
       "<div>\n",
       "<style scoped>\n",
       "    .dataframe tbody tr th:only-of-type {\n",
       "        vertical-align: middle;\n",
       "    }\n",
       "\n",
       "    .dataframe tbody tr th {\n",
       "        vertical-align: top;\n",
       "    }\n",
       "\n",
       "    .dataframe thead th {\n",
       "        text-align: right;\n",
       "    }\n",
       "</style>\n",
       "<table border=\"1\" class=\"dataframe\">\n",
       "  <thead>\n",
       "    <tr style=\"text-align: right;\">\n",
       "      <th></th>\n",
       "      <th>sex</th>\n",
       "      <th>children</th>\n",
       "      <th>smoker</th>\n",
       "      <th>region</th>\n",
       "      <th>charges</th>\n",
       "    </tr>\n",
       "  </thead>\n",
       "  <tbody>\n",
       "    <tr>\n",
       "      <th>0</th>\n",
       "      <td>0</td>\n",
       "      <td>0</td>\n",
       "      <td>1</td>\n",
       "      <td>1</td>\n",
       "      <td>16884.92400</td>\n",
       "    </tr>\n",
       "    <tr>\n",
       "      <th>1</th>\n",
       "      <td>1</td>\n",
       "      <td>1</td>\n",
       "      <td>0</td>\n",
       "      <td>2</td>\n",
       "      <td>1725.55230</td>\n",
       "    </tr>\n",
       "    <tr>\n",
       "      <th>2</th>\n",
       "      <td>1</td>\n",
       "      <td>3</td>\n",
       "      <td>0</td>\n",
       "      <td>2</td>\n",
       "      <td>4449.46200</td>\n",
       "    </tr>\n",
       "    <tr>\n",
       "      <th>3</th>\n",
       "      <td>1</td>\n",
       "      <td>0</td>\n",
       "      <td>0</td>\n",
       "      <td>0</td>\n",
       "      <td>21984.47061</td>\n",
       "    </tr>\n",
       "    <tr>\n",
       "      <th>4</th>\n",
       "      <td>1</td>\n",
       "      <td>0</td>\n",
       "      <td>0</td>\n",
       "      <td>0</td>\n",
       "      <td>3866.85520</td>\n",
       "    </tr>\n",
       "  </tbody>\n",
       "</table>\n",
       "</div>"
      ],
      "text/plain": [
       "   sex  children  smoker  region      charges\n",
       "0    0         0       1       1  16884.92400\n",
       "1    1         1       0       2   1725.55230\n",
       "2    1         3       0       2   4449.46200\n",
       "3    1         0       0       0  21984.47061\n",
       "4    1         0       0       0   3866.85520"
      ]
     },
     "execution_count": 6,
     "metadata": {},
     "output_type": "execute_result"
    }
   ],
   "source": [
    "df = df.drop(df.columns[0], axis=1)\n",
    "df = df.drop(df.columns[1], axis=1)\n",
    "df.head()"
   ]
  },
  {
   "cell_type": "markdown",
   "metadata": {},
   "source": [
    "drop table dari tabel sebelumnya yang memiliki nilai"
   ]
  },
  {
   "cell_type": "code",
   "execution_count": 7,
   "metadata": {},
   "outputs": [
    {
     "data": {
      "text/html": [
       "<div>\n",
       "<style scoped>\n",
       "    .dataframe tbody tr th:only-of-type {\n",
       "        vertical-align: middle;\n",
       "    }\n",
       "\n",
       "    .dataframe tbody tr th {\n",
       "        vertical-align: top;\n",
       "    }\n",
       "\n",
       "    .dataframe thead th {\n",
       "        text-align: right;\n",
       "    }\n",
       "</style>\n",
       "<table border=\"1\" class=\"dataframe\">\n",
       "  <thead>\n",
       "    <tr style=\"text-align: right;\">\n",
       "      <th></th>\n",
       "      <th>sex</th>\n",
       "      <th>children</th>\n",
       "      <th>smoker</th>\n",
       "      <th>region</th>\n",
       "      <th>charges</th>\n",
       "    </tr>\n",
       "  </thead>\n",
       "  <tbody>\n",
       "    <tr>\n",
       "      <th>0</th>\n",
       "      <td>0</td>\n",
       "      <td>0</td>\n",
       "      <td>1</td>\n",
       "      <td>1</td>\n",
       "      <td>16884.92400</td>\n",
       "    </tr>\n",
       "    <tr>\n",
       "      <th>1</th>\n",
       "      <td>1</td>\n",
       "      <td>1</td>\n",
       "      <td>0</td>\n",
       "      <td>2</td>\n",
       "      <td>1725.55230</td>\n",
       "    </tr>\n",
       "    <tr>\n",
       "      <th>2</th>\n",
       "      <td>1</td>\n",
       "      <td>3</td>\n",
       "      <td>0</td>\n",
       "      <td>2</td>\n",
       "      <td>4449.46200</td>\n",
       "    </tr>\n",
       "    <tr>\n",
       "      <th>3</th>\n",
       "      <td>1</td>\n",
       "      <td>0</td>\n",
       "      <td>0</td>\n",
       "      <td>0</td>\n",
       "      <td>21984.47061</td>\n",
       "    </tr>\n",
       "    <tr>\n",
       "      <th>4</th>\n",
       "      <td>1</td>\n",
       "      <td>0</td>\n",
       "      <td>0</td>\n",
       "      <td>0</td>\n",
       "      <td>3866.85520</td>\n",
       "    </tr>\n",
       "  </tbody>\n",
       "</table>\n",
       "</div>"
      ],
      "text/plain": [
       "   sex  children  smoker  region      charges\n",
       "0    0         0       1       1  16884.92400\n",
       "1    1         1       0       2   1725.55230\n",
       "2    1         3       0       2   4449.46200\n",
       "3    1         0       0       0  21984.47061\n",
       "4    1         0       0       0   3866.85520"
      ]
     },
     "execution_count": 7,
     "metadata": {},
     "output_type": "execute_result"
    }
   ],
   "source": [
    "\n",
    "\n",
    "databaru = df\n",
    "databaru.head()"
   ]
  },
  {
   "cell_type": "markdown",
   "metadata": {},
   "source": [
    "di atas adalah tabel yang sudah di modifikasi"
   ]
  },
  {
   "cell_type": "code",
   "execution_count": 8,
   "metadata": {},
   "outputs": [],
   "source": [
    "X = databaru.iloc[:, :-1].values\n",
    "y = databaru.iloc[:, 4].values"
   ]
  },
  {
   "cell_type": "code",
   "execution_count": 9,
   "metadata": {},
   "outputs": [],
   "source": [
    "Xm_train, Xm_test, ym_train, ym_test = train_test_split(X, y, test_size=0.1, random_state=10)"
   ]
  },
  {
   "cell_type": "code",
   "execution_count": 10,
   "metadata": {},
   "outputs": [
    {
     "data": {
      "text/plain": [
       "(1338, 1)"
      ]
     },
     "execution_count": 10,
     "metadata": {},
     "output_type": "execute_result"
    }
   ],
   "source": [
    "y = y.reshape(len(y), 1)\n",
    "y.shape"
   ]
  },
  {
   "cell_type": "code",
   "execution_count": 11,
   "metadata": {},
   "outputs": [],
   "source": [
    "mlr = LinearRegression()\n",
    "mlr.fit(Xm_train, ym_train)\n",
    "\n",
    "ym_pred = mlr.predict(Xm_test)"
   ]
  },
  {
   "cell_type": "code",
   "execution_count": 12,
   "metadata": {},
   "outputs": [
    {
     "data": {
      "text/plain": [
       "array([ 7281.5056    ,  5267.81815   , 12347.172     , 24513.09126   ,\n",
       "        3736.4647    ,  7358.17565   ,  9788.8659    , 17085.2676    ,\n",
       "        8211.1002    , 19798.05455   ,  3077.0955    ,  3385.39915   ,\n",
       "        6837.3687    ,  8538.28845   , 26392.26029   , 13012.20865   ,\n",
       "        3227.1211    , 15170.069     , 11073.176     , 20773.62775   ,\n",
       "       39556.4945    ,  2134.9015    ,  2198.18985   ,  6555.07035   ,\n",
       "        4340.4409    , 12622.1795    ,  7740.337     , 12475.3513    ,\n",
       "        3987.926     , 21082.16      ,  1241.565     , 40103.89      ,\n",
       "       17929.30337   ,  8302.53565   ,  3471.4096    ,  5846.9176    ,\n",
       "       13352.0998    ,  9144.565     , 25656.57526   ,  7726.854     ,\n",
       "       13887.9685    , 30284.64294   ,  5266.3656    , 12797.20962   ,\n",
       "        1146.7966    ,  7046.7222    ,  8627.5411    , 39597.4072    ,\n",
       "       12323.936     , 11454.0215    , 40904.1995    ,  3171.6149    ,\n",
       "        7445.918     , 13607.36875   , 27346.04207   , 12557.6053    ,\n",
       "       10797.3362    ,  5488.262     ,  6282.235     , 40941.2854    ,\n",
       "        1708.0014    , 23306.547     , 28950.4692    ,  1664.9996    ,\n",
       "       17361.7661    ,  7345.084     , 18157.876     ,  7256.7231    ,\n",
       "        7626.993     , 26236.57997   ,  7325.0482    ,  1720.3537    ,\n",
       "        7153.5539    ,  6986.697     ,  8232.6388    , 10370.91255   ,\n",
       "        4889.0368    ,  6474.013     ,  1625.43375   , 10115.00885   ,\n",
       "       10264.4421    ,  9386.1613    , 18223.4512    ,  3561.8889    ,\n",
       "       23887.6627    ,  3392.9768    ,  1135.9407    ,  1880.487     ,\n",
       "        5630.45785   , 10156.7832    , 22144.032     , 62592.87309   ,\n",
       "        9500.57305   , 46113.511     , 13390.559     ,  4076.497     ,\n",
       "        6389.37785   ,  9880.068     ,  4751.07      , 12629.8967    ,\n",
       "        6664.68595   , 21344.8467    , 22395.74424   ,  4466.6214    ,\n",
       "        9249.4952    ,  8703.456     , 38245.59327   , 36189.1017    ,\n",
       "       19023.26      ,  5080.096     ,  9957.7216    ,  6313.759     ,\n",
       "        4151.0287    , 17748.5062    , 37133.8982    , 21472.4788    ,\n",
       "        4350.5144    , 41661.602     ,  6985.50695   , 23241.47453   ,\n",
       "       39983.42595   ,  9174.13565   ,  6710.1919    ,  1633.9618    ,\n",
       "       47055.5321    ,  2899.48935   , 12231.6136    ,  5138.2567    ,\n",
       "        4646.759     , 12913.9924    , 24476.47851   , 27808.7251    ,\n",
       "       18033.9679    , 25309.489     ,  9697.83123725,  7480.74218735,\n",
       "        8155.27192492,  7683.33086937,  7480.74218735,  8523.65489368,\n",
       "       11212.68499914, 32293.25613955,  9161.39023597, 33133.58016386,\n",
       "        8793.00726721,  7784.62521038,  7618.83092364, 10001.71426028,\n",
       "        8523.65489368,  7480.74218735,  8422.36055267,  9633.33129152,\n",
       "        7582.03652836, 32228.75619382, 32228.75619382,  7480.74218735,\n",
       "        7784.62521038,  8523.65489368,  9161.39023597,  7480.74218735,\n",
       "        8894.30160822,  9697.83123725,  9060.09589496, 32026.1675118 ,\n",
       "        7416.24224162, 32765.1971951 ,  7683.33086937,  9096.89029024,\n",
       "        8256.56626593,  9161.39023597,  7314.94790061,  7416.24224162,\n",
       "        7784.62521038,  8894.30160822,  7683.33086937,  8793.00726721,\n",
       "        7480.74218735,  7784.62521038,  7517.53658263,  8422.36055267,\n",
       "        8357.86060694, 33706.81556042,  7618.83092364,  7480.74218735,\n",
       "       32394.55048056,  7683.33086937,  8155.27192492,  9262.68457698,\n",
       "        7517.53658263,  7517.53658263,  8523.65489368,  8155.27192492,\n",
       "        8155.27192492, 33771.31550615,  7618.83092364, 32765.1971951 ,\n",
       "       31351.63777423,  7517.53658263, 32663.90285409,  7582.03652836,\n",
       "        8793.00726721,  8793.00726721,  8321.06621166,  8321.06621166,\n",
       "        7784.62521038,  8256.56626593,  8219.77187065,  8793.00726721,\n",
       "        8422.36055267,  9262.68457698,  7683.33086937,  7582.03652836,\n",
       "        7314.94790061,  9697.83123725,  9532.03695051,  8256.56626593,\n",
       "       33771.31550615,  8422.36055267, 32090.66745753,  8422.36055267,\n",
       "        7517.53658263,  7582.03652836,  8219.77187065,  8958.80155395,\n",
       "       31287.1378285 , 31388.43216951,  9835.91997354, 32930.99148184,\n",
       "        7416.24224162,  8155.27192492,  8053.97758391,  8321.06621166,\n",
       "        8155.27192492,  7683.33086937,  8053.97758391,  7784.62521038,\n",
       "        9262.68457698,  9697.83123725,  8219.77187065,  8155.27192492,\n",
       "       32127.46185281, 33706.81556042, 35148.08053175, 11111.39065813,\n",
       "        8357.86060694,  9161.39023597,  8422.36055267, 31351.63777423,\n",
       "       31554.22645625, 34141.9622207 ,  8422.36055267, 32191.96179854,\n",
       "        9835.91997354,  9096.89029024, 33568.72682413,  7314.94790061,\n",
       "        8793.00726721,  7683.33086937, 31388.43216951,  7784.62521038,\n",
       "        7480.74218735,  9900.41991927,  7416.24224162,  8357.86060694,\n",
       "        7314.94790061, 31554.22645625, 31351.63777423, 33504.2268784 ])"
      ]
     },
     "execution_count": 12,
     "metadata": {},
     "output_type": "execute_result"
    }
   ],
   "source": [
    "gabung = np.concatenate((ym_test, ym_pred))\n",
    "gabung"
   ]
  },
  {
   "cell_type": "code",
   "execution_count": 13,
   "metadata": {},
   "outputs": [
    {
     "name": "stdout",
     "output_type": "stream",
     "text": [
      "0.545824624130435\n"
     ]
    }
   ],
   "source": [
    "\n",
    "r2_mlr = r2_score(ym_test, ym_pred)\n",
    "print(r2_mlr)"
   ]
  },
  {
   "cell_type": "markdown",
   "metadata": {},
   "source": [
    "di atas adalah hasil dari hitungan $R^2$"
   ]
  }
 ],
 "metadata": {
  "kernelspec": {
   "display_name": "Python 3.8.8 ('base')",
   "language": "python",
   "name": "python3"
  },
  "language_info": {
   "codemirror_mode": {
    "name": "ipython",
    "version": 3
   },
   "file_extension": ".py",
   "mimetype": "text/x-python",
   "name": "python",
   "nbconvert_exporter": "python",
   "pygments_lexer": "ipython3",
   "version": "3.8.8"
  },
  "orig_nbformat": 4,
  "vscode": {
   "interpreter": {
    "hash": "1b0778f2284d8c26f3096c312e31d5f4c4d724ae435d5390480791280bd9c2a3"
   }
  }
 },
 "nbformat": 4,
 "nbformat_minor": 2
}
